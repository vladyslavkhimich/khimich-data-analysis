{
  "nbformat": 4,
  "nbformat_minor": 0,
  "metadata": {
    "colab": {
      "provenance": []
    },
    "kernelspec": {
      "name": "python3",
      "display_name": "Python 3"
    },
    "language_info": {
      "name": "python"
    }
  },
  "cells": [
    {
      "cell_type": "code",
      "execution_count": 1,
      "metadata": {
        "id": "yQK3gEvcu4wT"
      },
      "outputs": [],
      "source": [
        "import numpy as np\n",
        "import pandas as pd\n",
        "\n",
        "df = pd.read_csv('https://github.com/Yorko/mlcourse.ai/raw/main/data/mlbootcamp5_train.csv', sep=';',index_col='id')"
      ]
    },
    {
      "cell_type": "code",
      "source": [
        "df.head(10)"
      ],
      "metadata": {
        "colab": {
          "base_uri": "https://localhost:8080/",
          "height": 394
        },
        "id": "-ul9Sf0ZvBo2",
        "outputId": "70298f4e-6270-4e93-c3e7-19756b834dff"
      },
      "execution_count": 2,
      "outputs": [
        {
          "output_type": "execute_result",
          "data": {
            "text/plain": [
              "      age  gender  height  weight  ap_hi  ap_lo  cholesterol  gluc  smoke  \\\n",
              "id                                                                          \n",
              "0   18393       2     168    62.0    110     80            1     1      0   \n",
              "1   20228       1     156    85.0    140     90            3     1      0   \n",
              "2   18857       1     165    64.0    130     70            3     1      0   \n",
              "3   17623       2     169    82.0    150    100            1     1      0   \n",
              "4   17474       1     156    56.0    100     60            1     1      0   \n",
              "8   21914       1     151    67.0    120     80            2     2      0   \n",
              "9   22113       1     157    93.0    130     80            3     1      0   \n",
              "12  22584       2     178    95.0    130     90            3     3      0   \n",
              "13  17668       1     158    71.0    110     70            1     1      0   \n",
              "14  19834       1     164    68.0    110     60            1     1      0   \n",
              "\n",
              "    alco  active  cardio  \n",
              "id                        \n",
              "0      0       1       0  \n",
              "1      0       1       1  \n",
              "2      0       0       1  \n",
              "3      0       1       1  \n",
              "4      0       0       0  \n",
              "8      0       0       0  \n",
              "9      0       1       0  \n",
              "12     0       1       1  \n",
              "13     0       1       0  \n",
              "14     0       0       0  "
            ],
            "text/html": [
              "\n",
              "  <div id=\"df-18feb903-14f3-4bf4-8526-864afd62226f\">\n",
              "    <div class=\"colab-df-container\">\n",
              "      <div>\n",
              "<style scoped>\n",
              "    .dataframe tbody tr th:only-of-type {\n",
              "        vertical-align: middle;\n",
              "    }\n",
              "\n",
              "    .dataframe tbody tr th {\n",
              "        vertical-align: top;\n",
              "    }\n",
              "\n",
              "    .dataframe thead th {\n",
              "        text-align: right;\n",
              "    }\n",
              "</style>\n",
              "<table border=\"1\" class=\"dataframe\">\n",
              "  <thead>\n",
              "    <tr style=\"text-align: right;\">\n",
              "      <th></th>\n",
              "      <th>age</th>\n",
              "      <th>gender</th>\n",
              "      <th>height</th>\n",
              "      <th>weight</th>\n",
              "      <th>ap_hi</th>\n",
              "      <th>ap_lo</th>\n",
              "      <th>cholesterol</th>\n",
              "      <th>gluc</th>\n",
              "      <th>smoke</th>\n",
              "      <th>alco</th>\n",
              "      <th>active</th>\n",
              "      <th>cardio</th>\n",
              "    </tr>\n",
              "    <tr>\n",
              "      <th>id</th>\n",
              "      <th></th>\n",
              "      <th></th>\n",
              "      <th></th>\n",
              "      <th></th>\n",
              "      <th></th>\n",
              "      <th></th>\n",
              "      <th></th>\n",
              "      <th></th>\n",
              "      <th></th>\n",
              "      <th></th>\n",
              "      <th></th>\n",
              "      <th></th>\n",
              "    </tr>\n",
              "  </thead>\n",
              "  <tbody>\n",
              "    <tr>\n",
              "      <th>0</th>\n",
              "      <td>18393</td>\n",
              "      <td>2</td>\n",
              "      <td>168</td>\n",
              "      <td>62.0</td>\n",
              "      <td>110</td>\n",
              "      <td>80</td>\n",
              "      <td>1</td>\n",
              "      <td>1</td>\n",
              "      <td>0</td>\n",
              "      <td>0</td>\n",
              "      <td>1</td>\n",
              "      <td>0</td>\n",
              "    </tr>\n",
              "    <tr>\n",
              "      <th>1</th>\n",
              "      <td>20228</td>\n",
              "      <td>1</td>\n",
              "      <td>156</td>\n",
              "      <td>85.0</td>\n",
              "      <td>140</td>\n",
              "      <td>90</td>\n",
              "      <td>3</td>\n",
              "      <td>1</td>\n",
              "      <td>0</td>\n",
              "      <td>0</td>\n",
              "      <td>1</td>\n",
              "      <td>1</td>\n",
              "    </tr>\n",
              "    <tr>\n",
              "      <th>2</th>\n",
              "      <td>18857</td>\n",
              "      <td>1</td>\n",
              "      <td>165</td>\n",
              "      <td>64.0</td>\n",
              "      <td>130</td>\n",
              "      <td>70</td>\n",
              "      <td>3</td>\n",
              "      <td>1</td>\n",
              "      <td>0</td>\n",
              "      <td>0</td>\n",
              "      <td>0</td>\n",
              "      <td>1</td>\n",
              "    </tr>\n",
              "    <tr>\n",
              "      <th>3</th>\n",
              "      <td>17623</td>\n",
              "      <td>2</td>\n",
              "      <td>169</td>\n",
              "      <td>82.0</td>\n",
              "      <td>150</td>\n",
              "      <td>100</td>\n",
              "      <td>1</td>\n",
              "      <td>1</td>\n",
              "      <td>0</td>\n",
              "      <td>0</td>\n",
              "      <td>1</td>\n",
              "      <td>1</td>\n",
              "    </tr>\n",
              "    <tr>\n",
              "      <th>4</th>\n",
              "      <td>17474</td>\n",
              "      <td>1</td>\n",
              "      <td>156</td>\n",
              "      <td>56.0</td>\n",
              "      <td>100</td>\n",
              "      <td>60</td>\n",
              "      <td>1</td>\n",
              "      <td>1</td>\n",
              "      <td>0</td>\n",
              "      <td>0</td>\n",
              "      <td>0</td>\n",
              "      <td>0</td>\n",
              "    </tr>\n",
              "    <tr>\n",
              "      <th>8</th>\n",
              "      <td>21914</td>\n",
              "      <td>1</td>\n",
              "      <td>151</td>\n",
              "      <td>67.0</td>\n",
              "      <td>120</td>\n",
              "      <td>80</td>\n",
              "      <td>2</td>\n",
              "      <td>2</td>\n",
              "      <td>0</td>\n",
              "      <td>0</td>\n",
              "      <td>0</td>\n",
              "      <td>0</td>\n",
              "    </tr>\n",
              "    <tr>\n",
              "      <th>9</th>\n",
              "      <td>22113</td>\n",
              "      <td>1</td>\n",
              "      <td>157</td>\n",
              "      <td>93.0</td>\n",
              "      <td>130</td>\n",
              "      <td>80</td>\n",
              "      <td>3</td>\n",
              "      <td>1</td>\n",
              "      <td>0</td>\n",
              "      <td>0</td>\n",
              "      <td>1</td>\n",
              "      <td>0</td>\n",
              "    </tr>\n",
              "    <tr>\n",
              "      <th>12</th>\n",
              "      <td>22584</td>\n",
              "      <td>2</td>\n",
              "      <td>178</td>\n",
              "      <td>95.0</td>\n",
              "      <td>130</td>\n",
              "      <td>90</td>\n",
              "      <td>3</td>\n",
              "      <td>3</td>\n",
              "      <td>0</td>\n",
              "      <td>0</td>\n",
              "      <td>1</td>\n",
              "      <td>1</td>\n",
              "    </tr>\n",
              "    <tr>\n",
              "      <th>13</th>\n",
              "      <td>17668</td>\n",
              "      <td>1</td>\n",
              "      <td>158</td>\n",
              "      <td>71.0</td>\n",
              "      <td>110</td>\n",
              "      <td>70</td>\n",
              "      <td>1</td>\n",
              "      <td>1</td>\n",
              "      <td>0</td>\n",
              "      <td>0</td>\n",
              "      <td>1</td>\n",
              "      <td>0</td>\n",
              "    </tr>\n",
              "    <tr>\n",
              "      <th>14</th>\n",
              "      <td>19834</td>\n",
              "      <td>1</td>\n",
              "      <td>164</td>\n",
              "      <td>68.0</td>\n",
              "      <td>110</td>\n",
              "      <td>60</td>\n",
              "      <td>1</td>\n",
              "      <td>1</td>\n",
              "      <td>0</td>\n",
              "      <td>0</td>\n",
              "      <td>0</td>\n",
              "      <td>0</td>\n",
              "    </tr>\n",
              "  </tbody>\n",
              "</table>\n",
              "</div>\n",
              "      <button class=\"colab-df-convert\" onclick=\"convertToInteractive('df-18feb903-14f3-4bf4-8526-864afd62226f')\"\n",
              "              title=\"Convert this dataframe to an interactive table.\"\n",
              "              style=\"display:none;\">\n",
              "        \n",
              "  <svg xmlns=\"http://www.w3.org/2000/svg\" height=\"24px\"viewBox=\"0 0 24 24\"\n",
              "       width=\"24px\">\n",
              "    <path d=\"M0 0h24v24H0V0z\" fill=\"none\"/>\n",
              "    <path d=\"M18.56 5.44l.94 2.06.94-2.06 2.06-.94-2.06-.94-.94-2.06-.94 2.06-2.06.94zm-11 1L8.5 8.5l.94-2.06 2.06-.94-2.06-.94L8.5 2.5l-.94 2.06-2.06.94zm10 10l.94 2.06.94-2.06 2.06-.94-2.06-.94-.94-2.06-.94 2.06-2.06.94z\"/><path d=\"M17.41 7.96l-1.37-1.37c-.4-.4-.92-.59-1.43-.59-.52 0-1.04.2-1.43.59L10.3 9.45l-7.72 7.72c-.78.78-.78 2.05 0 2.83L4 21.41c.39.39.9.59 1.41.59.51 0 1.02-.2 1.41-.59l7.78-7.78 2.81-2.81c.8-.78.8-2.07 0-2.86zM5.41 20L4 18.59l7.72-7.72 1.47 1.35L5.41 20z\"/>\n",
              "  </svg>\n",
              "      </button>\n",
              "      \n",
              "  <style>\n",
              "    .colab-df-container {\n",
              "      display:flex;\n",
              "      flex-wrap:wrap;\n",
              "      gap: 12px;\n",
              "    }\n",
              "\n",
              "    .colab-df-convert {\n",
              "      background-color: #E8F0FE;\n",
              "      border: none;\n",
              "      border-radius: 50%;\n",
              "      cursor: pointer;\n",
              "      display: none;\n",
              "      fill: #1967D2;\n",
              "      height: 32px;\n",
              "      padding: 0 0 0 0;\n",
              "      width: 32px;\n",
              "    }\n",
              "\n",
              "    .colab-df-convert:hover {\n",
              "      background-color: #E2EBFA;\n",
              "      box-shadow: 0px 1px 2px rgba(60, 64, 67, 0.3), 0px 1px 3px 1px rgba(60, 64, 67, 0.15);\n",
              "      fill: #174EA6;\n",
              "    }\n",
              "\n",
              "    [theme=dark] .colab-df-convert {\n",
              "      background-color: #3B4455;\n",
              "      fill: #D2E3FC;\n",
              "    }\n",
              "\n",
              "    [theme=dark] .colab-df-convert:hover {\n",
              "      background-color: #434B5C;\n",
              "      box-shadow: 0px 1px 3px 1px rgba(0, 0, 0, 0.15);\n",
              "      filter: drop-shadow(0px 1px 2px rgba(0, 0, 0, 0.3));\n",
              "      fill: #FFFFFF;\n",
              "    }\n",
              "  </style>\n",
              "\n",
              "      <script>\n",
              "        const buttonEl =\n",
              "          document.querySelector('#df-18feb903-14f3-4bf4-8526-864afd62226f button.colab-df-convert');\n",
              "        buttonEl.style.display =\n",
              "          google.colab.kernel.accessAllowed ? 'block' : 'none';\n",
              "\n",
              "        async function convertToInteractive(key) {\n",
              "          const element = document.querySelector('#df-18feb903-14f3-4bf4-8526-864afd62226f');\n",
              "          const dataTable =\n",
              "            await google.colab.kernel.invokeFunction('convertToInteractive',\n",
              "                                                     [key], {});\n",
              "          if (!dataTable) return;\n",
              "\n",
              "          const docLinkHtml = 'Like what you see? Visit the ' +\n",
              "            '<a target=\"_blank\" href=https://colab.research.google.com/notebooks/data_table.ipynb>data table notebook</a>'\n",
              "            + ' to learn more about interactive tables.';\n",
              "          element.innerHTML = '';\n",
              "          dataTable['output_type'] = 'display_data';\n",
              "          await google.colab.output.renderOutput(dataTable, element);\n",
              "          const docLink = document.createElement('div');\n",
              "          docLink.innerHTML = docLinkHtml;\n",
              "          element.appendChild(docLink);\n",
              "        }\n",
              "      </script>\n",
              "    </div>\n",
              "  </div>\n",
              "  "
            ]
          },
          "metadata": {},
          "execution_count": 2
        }
      ]
    },
    {
      "cell_type": "markdown",
      "source": [
        "Завдання 1. Скільки чоловіків і жінок представлено в цьому наборі\n",
        "даних? Не було дано опису ознаки «стать» (якої статі відповідає 1, а якої - 2 в\n",
        "ознаці gender) - це можна визначити подивившись на зріст, при розумному\n",
        "припущенні в середньому чоловіки вище"
      ],
      "metadata": {
        "id": "HU1oRk1nvLWe"
      }
    },
    {
      "cell_type": "code",
      "source": [
        "df[\"gender\"] = df[\"gender\"].astype(\"category\")\n",
        "dfByGender = df.groupby(\"gender\")\n",
        "genderIdSortedByAverageHeight = dfByGender[\"height\"].mean().sort_values(ascending = False).index.values\n",
        "mapping = [[gender, \"man\"] if index % 2 == 0 else [gender, \"woman\"] for index, gender in enumerate(genderIdSortedByAverageHeight)]\n",
        "df[\"gender\"] = df[\"gender\"].cat.rename_categories(dict(mapping))\n",
        "dfByGender = df.groupby(\"gender\")\n",
        "df.head(10)"
      ],
      "metadata": {
        "colab": {
          "base_uri": "https://localhost:8080/",
          "height": 394
        },
        "id": "ZFMDa4R8vTuG",
        "outputId": "4f089ecf-ef85-41e0-e159-2ef351cad347"
      },
      "execution_count": 3,
      "outputs": [
        {
          "output_type": "execute_result",
          "data": {
            "text/plain": [
              "      age gender  height  weight  ap_hi  ap_lo  cholesterol  gluc  smoke  \\\n",
              "id                                                                         \n",
              "0   18393    man     168    62.0    110     80            1     1      0   \n",
              "1   20228  woman     156    85.0    140     90            3     1      0   \n",
              "2   18857  woman     165    64.0    130     70            3     1      0   \n",
              "3   17623    man     169    82.0    150    100            1     1      0   \n",
              "4   17474  woman     156    56.0    100     60            1     1      0   \n",
              "8   21914  woman     151    67.0    120     80            2     2      0   \n",
              "9   22113  woman     157    93.0    130     80            3     1      0   \n",
              "12  22584    man     178    95.0    130     90            3     3      0   \n",
              "13  17668  woman     158    71.0    110     70            1     1      0   \n",
              "14  19834  woman     164    68.0    110     60            1     1      0   \n",
              "\n",
              "    alco  active  cardio  \n",
              "id                        \n",
              "0      0       1       0  \n",
              "1      0       1       1  \n",
              "2      0       0       1  \n",
              "3      0       1       1  \n",
              "4      0       0       0  \n",
              "8      0       0       0  \n",
              "9      0       1       0  \n",
              "12     0       1       1  \n",
              "13     0       1       0  \n",
              "14     0       0       0  "
            ],
            "text/html": [
              "\n",
              "  <div id=\"df-b2732449-a6d7-4a17-834d-a21b6657925f\">\n",
              "    <div class=\"colab-df-container\">\n",
              "      <div>\n",
              "<style scoped>\n",
              "    .dataframe tbody tr th:only-of-type {\n",
              "        vertical-align: middle;\n",
              "    }\n",
              "\n",
              "    .dataframe tbody tr th {\n",
              "        vertical-align: top;\n",
              "    }\n",
              "\n",
              "    .dataframe thead th {\n",
              "        text-align: right;\n",
              "    }\n",
              "</style>\n",
              "<table border=\"1\" class=\"dataframe\">\n",
              "  <thead>\n",
              "    <tr style=\"text-align: right;\">\n",
              "      <th></th>\n",
              "      <th>age</th>\n",
              "      <th>gender</th>\n",
              "      <th>height</th>\n",
              "      <th>weight</th>\n",
              "      <th>ap_hi</th>\n",
              "      <th>ap_lo</th>\n",
              "      <th>cholesterol</th>\n",
              "      <th>gluc</th>\n",
              "      <th>smoke</th>\n",
              "      <th>alco</th>\n",
              "      <th>active</th>\n",
              "      <th>cardio</th>\n",
              "    </tr>\n",
              "    <tr>\n",
              "      <th>id</th>\n",
              "      <th></th>\n",
              "      <th></th>\n",
              "      <th></th>\n",
              "      <th></th>\n",
              "      <th></th>\n",
              "      <th></th>\n",
              "      <th></th>\n",
              "      <th></th>\n",
              "      <th></th>\n",
              "      <th></th>\n",
              "      <th></th>\n",
              "      <th></th>\n",
              "    </tr>\n",
              "  </thead>\n",
              "  <tbody>\n",
              "    <tr>\n",
              "      <th>0</th>\n",
              "      <td>18393</td>\n",
              "      <td>man</td>\n",
              "      <td>168</td>\n",
              "      <td>62.0</td>\n",
              "      <td>110</td>\n",
              "      <td>80</td>\n",
              "      <td>1</td>\n",
              "      <td>1</td>\n",
              "      <td>0</td>\n",
              "      <td>0</td>\n",
              "      <td>1</td>\n",
              "      <td>0</td>\n",
              "    </tr>\n",
              "    <tr>\n",
              "      <th>1</th>\n",
              "      <td>20228</td>\n",
              "      <td>woman</td>\n",
              "      <td>156</td>\n",
              "      <td>85.0</td>\n",
              "      <td>140</td>\n",
              "      <td>90</td>\n",
              "      <td>3</td>\n",
              "      <td>1</td>\n",
              "      <td>0</td>\n",
              "      <td>0</td>\n",
              "      <td>1</td>\n",
              "      <td>1</td>\n",
              "    </tr>\n",
              "    <tr>\n",
              "      <th>2</th>\n",
              "      <td>18857</td>\n",
              "      <td>woman</td>\n",
              "      <td>165</td>\n",
              "      <td>64.0</td>\n",
              "      <td>130</td>\n",
              "      <td>70</td>\n",
              "      <td>3</td>\n",
              "      <td>1</td>\n",
              "      <td>0</td>\n",
              "      <td>0</td>\n",
              "      <td>0</td>\n",
              "      <td>1</td>\n",
              "    </tr>\n",
              "    <tr>\n",
              "      <th>3</th>\n",
              "      <td>17623</td>\n",
              "      <td>man</td>\n",
              "      <td>169</td>\n",
              "      <td>82.0</td>\n",
              "      <td>150</td>\n",
              "      <td>100</td>\n",
              "      <td>1</td>\n",
              "      <td>1</td>\n",
              "      <td>0</td>\n",
              "      <td>0</td>\n",
              "      <td>1</td>\n",
              "      <td>1</td>\n",
              "    </tr>\n",
              "    <tr>\n",
              "      <th>4</th>\n",
              "      <td>17474</td>\n",
              "      <td>woman</td>\n",
              "      <td>156</td>\n",
              "      <td>56.0</td>\n",
              "      <td>100</td>\n",
              "      <td>60</td>\n",
              "      <td>1</td>\n",
              "      <td>1</td>\n",
              "      <td>0</td>\n",
              "      <td>0</td>\n",
              "      <td>0</td>\n",
              "      <td>0</td>\n",
              "    </tr>\n",
              "    <tr>\n",
              "      <th>8</th>\n",
              "      <td>21914</td>\n",
              "      <td>woman</td>\n",
              "      <td>151</td>\n",
              "      <td>67.0</td>\n",
              "      <td>120</td>\n",
              "      <td>80</td>\n",
              "      <td>2</td>\n",
              "      <td>2</td>\n",
              "      <td>0</td>\n",
              "      <td>0</td>\n",
              "      <td>0</td>\n",
              "      <td>0</td>\n",
              "    </tr>\n",
              "    <tr>\n",
              "      <th>9</th>\n",
              "      <td>22113</td>\n",
              "      <td>woman</td>\n",
              "      <td>157</td>\n",
              "      <td>93.0</td>\n",
              "      <td>130</td>\n",
              "      <td>80</td>\n",
              "      <td>3</td>\n",
              "      <td>1</td>\n",
              "      <td>0</td>\n",
              "      <td>0</td>\n",
              "      <td>1</td>\n",
              "      <td>0</td>\n",
              "    </tr>\n",
              "    <tr>\n",
              "      <th>12</th>\n",
              "      <td>22584</td>\n",
              "      <td>man</td>\n",
              "      <td>178</td>\n",
              "      <td>95.0</td>\n",
              "      <td>130</td>\n",
              "      <td>90</td>\n",
              "      <td>3</td>\n",
              "      <td>3</td>\n",
              "      <td>0</td>\n",
              "      <td>0</td>\n",
              "      <td>1</td>\n",
              "      <td>1</td>\n",
              "    </tr>\n",
              "    <tr>\n",
              "      <th>13</th>\n",
              "      <td>17668</td>\n",
              "      <td>woman</td>\n",
              "      <td>158</td>\n",
              "      <td>71.0</td>\n",
              "      <td>110</td>\n",
              "      <td>70</td>\n",
              "      <td>1</td>\n",
              "      <td>1</td>\n",
              "      <td>0</td>\n",
              "      <td>0</td>\n",
              "      <td>1</td>\n",
              "      <td>0</td>\n",
              "    </tr>\n",
              "    <tr>\n",
              "      <th>14</th>\n",
              "      <td>19834</td>\n",
              "      <td>woman</td>\n",
              "      <td>164</td>\n",
              "      <td>68.0</td>\n",
              "      <td>110</td>\n",
              "      <td>60</td>\n",
              "      <td>1</td>\n",
              "      <td>1</td>\n",
              "      <td>0</td>\n",
              "      <td>0</td>\n",
              "      <td>0</td>\n",
              "      <td>0</td>\n",
              "    </tr>\n",
              "  </tbody>\n",
              "</table>\n",
              "</div>\n",
              "      <button class=\"colab-df-convert\" onclick=\"convertToInteractive('df-b2732449-a6d7-4a17-834d-a21b6657925f')\"\n",
              "              title=\"Convert this dataframe to an interactive table.\"\n",
              "              style=\"display:none;\">\n",
              "        \n",
              "  <svg xmlns=\"http://www.w3.org/2000/svg\" height=\"24px\"viewBox=\"0 0 24 24\"\n",
              "       width=\"24px\">\n",
              "    <path d=\"M0 0h24v24H0V0z\" fill=\"none\"/>\n",
              "    <path d=\"M18.56 5.44l.94 2.06.94-2.06 2.06-.94-2.06-.94-.94-2.06-.94 2.06-2.06.94zm-11 1L8.5 8.5l.94-2.06 2.06-.94-2.06-.94L8.5 2.5l-.94 2.06-2.06.94zm10 10l.94 2.06.94-2.06 2.06-.94-2.06-.94-.94-2.06-.94 2.06-2.06.94z\"/><path d=\"M17.41 7.96l-1.37-1.37c-.4-.4-.92-.59-1.43-.59-.52 0-1.04.2-1.43.59L10.3 9.45l-7.72 7.72c-.78.78-.78 2.05 0 2.83L4 21.41c.39.39.9.59 1.41.59.51 0 1.02-.2 1.41-.59l7.78-7.78 2.81-2.81c.8-.78.8-2.07 0-2.86zM5.41 20L4 18.59l7.72-7.72 1.47 1.35L5.41 20z\"/>\n",
              "  </svg>\n",
              "      </button>\n",
              "      \n",
              "  <style>\n",
              "    .colab-df-container {\n",
              "      display:flex;\n",
              "      flex-wrap:wrap;\n",
              "      gap: 12px;\n",
              "    }\n",
              "\n",
              "    .colab-df-convert {\n",
              "      background-color: #E8F0FE;\n",
              "      border: none;\n",
              "      border-radius: 50%;\n",
              "      cursor: pointer;\n",
              "      display: none;\n",
              "      fill: #1967D2;\n",
              "      height: 32px;\n",
              "      padding: 0 0 0 0;\n",
              "      width: 32px;\n",
              "    }\n",
              "\n",
              "    .colab-df-convert:hover {\n",
              "      background-color: #E2EBFA;\n",
              "      box-shadow: 0px 1px 2px rgba(60, 64, 67, 0.3), 0px 1px 3px 1px rgba(60, 64, 67, 0.15);\n",
              "      fill: #174EA6;\n",
              "    }\n",
              "\n",
              "    [theme=dark] .colab-df-convert {\n",
              "      background-color: #3B4455;\n",
              "      fill: #D2E3FC;\n",
              "    }\n",
              "\n",
              "    [theme=dark] .colab-df-convert:hover {\n",
              "      background-color: #434B5C;\n",
              "      box-shadow: 0px 1px 3px 1px rgba(0, 0, 0, 0.15);\n",
              "      filter: drop-shadow(0px 1px 2px rgba(0, 0, 0, 0.3));\n",
              "      fill: #FFFFFF;\n",
              "    }\n",
              "  </style>\n",
              "\n",
              "      <script>\n",
              "        const buttonEl =\n",
              "          document.querySelector('#df-b2732449-a6d7-4a17-834d-a21b6657925f button.colab-df-convert');\n",
              "        buttonEl.style.display =\n",
              "          google.colab.kernel.accessAllowed ? 'block' : 'none';\n",
              "\n",
              "        async function convertToInteractive(key) {\n",
              "          const element = document.querySelector('#df-b2732449-a6d7-4a17-834d-a21b6657925f');\n",
              "          const dataTable =\n",
              "            await google.colab.kernel.invokeFunction('convertToInteractive',\n",
              "                                                     [key], {});\n",
              "          if (!dataTable) return;\n",
              "\n",
              "          const docLinkHtml = 'Like what you see? Visit the ' +\n",
              "            '<a target=\"_blank\" href=https://colab.research.google.com/notebooks/data_table.ipynb>data table notebook</a>'\n",
              "            + ' to learn more about interactive tables.';\n",
              "          element.innerHTML = '';\n",
              "          dataTable['output_type'] = 'display_data';\n",
              "          await google.colab.output.renderOutput(dataTable, element);\n",
              "          const docLink = document.createElement('div');\n",
              "          docLink.innerHTML = docLinkHtml;\n",
              "          element.appendChild(docLink);\n",
              "        }\n",
              "      </script>\n",
              "    </div>\n",
              "  </div>\n",
              "  "
            ]
          },
          "metadata": {},
          "execution_count": 3
        }
      ]
    },
    {
      "cell_type": "code",
      "source": [
        "dfByGender.size()"
      ],
      "metadata": {
        "colab": {
          "base_uri": "https://localhost:8080/"
        },
        "id": "QzaNiA-3vpBj",
        "outputId": "a6dd73d3-dbc6-4c3f-eb37-f6d03d0c3f56"
      },
      "execution_count": 4,
      "outputs": [
        {
          "output_type": "execute_result",
          "data": {
            "text/plain": [
              "gender\n",
              "woman    45530\n",
              "man      24470\n",
              "dtype: int64"
            ]
          },
          "metadata": {},
          "execution_count": 4
        }
      ]
    },
    {
      "cell_type": "markdown",
      "source": [
        "Завдання 2. Хто в середньому рідше вказує, що вживає алкоголь -\n",
        "чоловіки чи жінки?"
      ],
      "metadata": {
        "id": "0FjFwnIkvucS"
      }
    },
    {
      "cell_type": "code",
      "source": [
        "dfByGender[\"alco\"].mean()"
      ],
      "metadata": {
        "colab": {
          "base_uri": "https://localhost:8080/"
        },
        "id": "3yrYV4F7vxmN",
        "outputId": "afed8f44-3694-40c6-bc45-b6da3a2abb80"
      },
      "execution_count": 5,
      "outputs": [
        {
          "output_type": "execute_result",
          "data": {
            "text/plain": [
              "gender\n",
              "woman    0.025500\n",
              "man      0.106375\n",
              "Name: alco, dtype: float64"
            ]
          },
          "metadata": {},
          "execution_count": 5
        }
      ]
    },
    {
      "cell_type": "markdown",
      "source": [
        "Завдання 3. У скільки разів (округлити, round) відсоток курців серед\n",
        "чоловіків більше, ніж відсоток курців серед?"
      ],
      "metadata": {
        "id": "-7ymDd4xv3r0"
      }
    },
    {
      "cell_type": "code",
      "source": [
        "filteredDfByGender = df[df[\"smoke\"] == 1].groupby(\"gender\")\n",
        "print(filteredDfByGender.size())\n",
        "print(dfByGender.size())\n",
        "percent_of_smokers_per_gender = filteredDfByGender.size() / dfByGender.size() * 100\n",
        "print(percent_of_smokers_per_gender)\n",
        "result = percent_of_smokers_per_gender[\"man\"] / percent_of_smokers_per_gender[\"woman\"]\n",
        "print(f\"Result: {round(result)}\")"
      ],
      "metadata": {
        "colab": {
          "base_uri": "https://localhost:8080/"
        },
        "id": "-AOXRmHkv6vY",
        "outputId": "760d1c43-7329-444f-dc42-4df721707284"
      },
      "execution_count": 6,
      "outputs": [
        {
          "output_type": "stream",
          "name": "stdout",
          "text": [
            "gender\n",
            "woman     813\n",
            "man      5356\n",
            "dtype: int64\n",
            "gender\n",
            "woman    45530\n",
            "man      24470\n",
            "dtype: int64\n",
            "gender\n",
            "woman     1.785636\n",
            "man      21.888026\n",
            "dtype: float64\n",
            "Result: 12\n"
          ]
        }
      ]
    },
    {
      "cell_type": "markdown",
      "source": [
        "Завдання 4. У кого в середньому тиск вище, у жінок чи чоловіків."
      ],
      "metadata": {
        "id": "qR_Uy82swNiz"
      }
    },
    {
      "cell_type": "code",
      "source": [
        "dfByGender[\"ap_hi\"].mean()"
      ],
      "metadata": {
        "colab": {
          "base_uri": "https://localhost:8080/"
        },
        "id": "HDYQTmnwwOsh",
        "outputId": "99a83ab8-9e95-4b4a-dbe8-0f661d6aeeb0"
      },
      "execution_count": 8,
      "outputs": [
        {
          "output_type": "execute_result",
          "data": {
            "text/plain": [
              "gender\n",
              "woman    128.139249\n",
              "man      130.078872\n",
              "Name: ap_hi, dtype: float64"
            ]
          },
          "metadata": {},
          "execution_count": 8
        }
      ]
    },
    {
      "cell_type": "code",
      "source": [
        "dfByGender[\"ap_lo\"].mean()"
      ],
      "metadata": {
        "colab": {
          "base_uri": "https://localhost:8080/"
        },
        "id": "UwaWSwm2xQjh",
        "outputId": "f09ebfc0-3afd-4524-ead0-039871946608"
      },
      "execution_count": 9,
      "outputs": [
        {
          "output_type": "execute_result",
          "data": {
            "text/plain": [
              "gender\n",
              "woman     94.522776\n",
              "man      100.551982\n",
              "Name: ap_lo, dtype: float64"
            ]
          },
          "metadata": {},
          "execution_count": 9
        }
      ]
    },
    {
      "cell_type": "markdown",
      "source": [
        "Завдання 5. В чому вимірюється вік? На скільки місяців (приблизно)\n",
        "відрізняються медіанне значення віку курців і тих хто не курить?"
      ],
      "metadata": {
        "id": "vQTISOkqz2Hn"
      }
    },
    {
      "cell_type": "code",
      "source": [
        "print(round(df[\"age\"]/12/30).describe())\n",
        "df_by_smoke = df.groupby(\"smoke\")\n",
        "age_median_by_smoke = round(df_by_smoke[\"age\"].median()/12)\n",
        "abs(age_median_by_smoke[0] - age_median_by_smoke[1])"
      ],
      "metadata": {
        "colab": {
          "base_uri": "https://localhost:8080/"
        },
        "id": "QTMOmrrfz33q",
        "outputId": "a3e0c19d-2b01-4f3c-8c54-6677f6dc8033"
      },
      "execution_count": 11,
      "outputs": [
        {
          "output_type": "stream",
          "name": "stdout",
          "text": [
            "count    70000.000000\n",
            "mean        54.077900\n",
            "std          6.858852\n",
            "min         30.000000\n",
            "25%         49.000000\n",
            "50%         55.000000\n",
            "75%         59.000000\n",
            "max         66.000000\n",
            "Name: age, dtype: float64\n"
          ]
        },
        {
          "output_type": "execute_result",
          "data": {
            "text/plain": [
              "50.0"
            ]
          },
          "metadata": {},
          "execution_count": 11
        }
      ]
    },
    {
      "cell_type": "markdown",
      "source": [
        "Завдання 6"
      ],
      "metadata": {
        "id": "x3_gjEUv1SmZ"
      }
    },
    {
      "cell_type": "code",
      "source": [
        "df[\"age_years\"] = round(df[\"age\"]/12/30)\n",
        "df[\"cardio_decease_group\"] = \"excluded\" # not used for data\n",
        "\n",
        "smoking_man_60_to_64 = df[(df[\"gender\"] == \"man\") & (df[\"age_years\"] <= 64) & (df[\"age_years\"] >= 60) & (df[\"smoke\"] == 1)]\n",
        "\n",
        "low_smoking_man_60_to_64 = smoking_man_60_to_64[(smoking_man_60_to_64[\"ap_hi\"] < 120) & (smoking_man_60_to_64[\"cholesterol\"] == 1)]\n",
        "df.loc[low_smoking_man_60_to_64.index.tolist(), 'cardio_decease_group'] = \"low_risk\"\n",
        "high_smoking_man_60_to_64 = smoking_man_60_to_64[(smoking_man_60_to_64[\"ap_hi\"] >= 160) & (smoking_man_60_to_64[\"cholesterol\"] == 3)]\n",
        "df.loc[high_smoking_man_60_to_64.index.tolist(), 'cardio_decease_group'] = \"high_risk\"\n",
        "\n",
        "target = df[df['cardio_decease_group'] != \"excluded\"]\n",
        "target_by_cardio_decease_group = target.groupby(\"cardio_decease_group\")\n",
        "ill_target = target[target[\"cardio\"] == 1]\n",
        "ill_target_by_cardio_decease_group = ill_target.groupby(\"cardio_decease_group\")\n",
        "\n",
        "ill_to_risk_percentage = ill_target_by_cardio_decease_group.size() / target_by_cardio_decease_group.size() * 100\n",
        "round(ill_to_risk_percentage[\"high_risk\"] / ill_to_risk_percentage[\"low_risk\"])"
      ],
      "metadata": {
        "colab": {
          "base_uri": "https://localhost:8080/"
        },
        "id": "ODZYtWHX1gLL",
        "outputId": "e3ea97ca-1ae0-4eda-9f6c-23d548e72a4a"
      },
      "execution_count": 12,
      "outputs": [
        {
          "output_type": "execute_result",
          "data": {
            "text/plain": [
              "4"
            ]
          },
          "metadata": {},
          "execution_count": 12
        }
      ]
    },
    {
      "cell_type": "markdown",
      "source": [
        "Завдання 7. Побудуйте нову ознаку - BMI (Body Mass Index). Для\n",
        "цього треба вагу у кілограмах поділити на квадрат зросту в метрах.\n",
        "Нормальними вважаються значення BMI від 18.5 до 25."
      ],
      "metadata": {
        "id": "bgNcMggZ1yhZ"
      }
    },
    {
      "cell_type": "code",
      "source": [
        "df[\"BMI\"] = df[\"weight\"] / ((df[\"height\"] / 100)**2)\n",
        "print(\"{}\\n\".format(df[\"BMI\"].describe()))\n",
        "first = df[\"BMI\"].median() > 25\n",
        "print(f\"1. Median exceeds norm: {first}\\n\\n\")\n",
        "\n",
        "mean_bmi_by_gender = round(dfByGender[\"BMI\"].mean())\n",
        "print(\"{}\\n\".format(mean_bmi_by_gender))\n",
        "second = mean_bmi_by_gender[\"woman\"] < mean_bmi_by_gender[\"man\"]\n",
        "print(f\"2. Mean BMI for women is lower than for men: {second}\\n\\n\")\n",
        "\n",
        "\n",
        "mean_bmi_by_ill = round(df.groupby(\"cardio\")[\"BMI\"].mean())\n",
        "print(\"{}\\n\".format(mean_bmi_by_ill))\n",
        "third = mean_bmi_by_ill[0] > mean_bmi_by_ill[1]\n",
        "print(f\"2. Mean BMI for healthy people is higher than that for ill: {third}\")"
      ],
      "metadata": {
        "colab": {
          "base_uri": "https://localhost:8080/"
        },
        "id": "O-IT7_eF13tp",
        "outputId": "057a3f67-5a19-440e-987e-87bef2dac034"
      },
      "execution_count": 13,
      "outputs": [
        {
          "output_type": "stream",
          "name": "stdout",
          "text": [
            "count    70000.000000\n",
            "mean        27.556513\n",
            "std          6.091511\n",
            "min          3.471784\n",
            "25%         23.875115\n",
            "50%         26.374068\n",
            "75%         30.222222\n",
            "max        298.666667\n",
            "Name: BMI, dtype: float64\n",
            "\n",
            "1. Median exceeds norm: True\n",
            "\n",
            "\n",
            "gender\n",
            "woman    28.0\n",
            "man      27.0\n",
            "Name: BMI, dtype: float64\n",
            "\n",
            "2. Mean BMI for women is lower than for men: False\n",
            "\n",
            "\n",
            "cardio\n",
            "0    27.0\n",
            "1    29.0\n",
            "Name: BMI, dtype: float64\n",
            "\n",
            "2. Mean BMI for healthy people is higher than that for ill: False\n"
          ]
        }
      ]
    },
    {
      "cell_type": "markdown",
      "source": [
        "Завдання 8."
      ],
      "metadata": {
        "id": "2_I2wT_d3Skw"
      }
    },
    {
      "cell_type": "code",
      "source": [
        "import matplotlib.pyplot as plt\n",
        "\n",
        "(df[\"ap_hi\"]-df[\"ap_lo\"]).plot()\n",
        "plt.show()\n",
        "df[\"weight\"].plot.box()\n",
        "plt.show()\n",
        "df[\"ap_hi\"].plot.box()\n",
        "plt.show()\n",
        "\n",
        "weight_limit = df[\"weight\"].quantile([0.025, 0.975])\n",
        "pressure_limit = df[\"ap_hi\"].quantile([0.025, 0.975])\n",
        "filtered = df[\n",
        "    (df[\"ap_hi\"] > df[\"ap_lo\"]) &\n",
        "    (df[\"weight\"] >= weight_limit[0.025]) & (df[\"weight\"] <= weight_limit[0.975]) & \n",
        "    (df[\"ap_hi\"] >= pressure_limit[0.025]) & (df[\"ap_hi\"] <= pressure_limit[0.975])\n",
        "]\n",
        "\n",
        "(filtered[\"ap_hi\"]-filtered[\"ap_lo\"]).plot()\n",
        "plt.show()\n",
        "filtered[\"weight\"].plot.box()\n",
        "plt.show()\n",
        "filtered[\"ap_hi\"].plot.box()\n",
        "plt.show()\n",
        "\n",
        "print(f\"size before: {len(df)}, size after: {len(filtered)}, removed in percents: {round((len(df) - len(filtered)) * 100 / len(df))}\")\n",
        "dff = df.copy().loc[filtered.index.tolist()]"
      ],
      "metadata": {
        "colab": {
          "base_uri": "https://localhost:8080/",
          "height": 1000
        },
        "id": "WSiztCBI3Xbu",
        "outputId": "a46b5cf6-3d88-424e-b7c5-3f160bf6a434"
      },
      "execution_count": 14,
      "outputs": [
        {
          "output_type": "display_data",
          "data": {
            "text/plain": [
              "<Figure size 432x288 with 1 Axes>"
            ],
            "image/png": "[encoded data removed]"
          },
          "metadata": {
            "needs_background": "light"
          }
        },
        {
          "output_type": "display_data",
          "data": {
            "text/plain": [
              "<Figure size 432x288 with 1 Axes>"
            ],
            "image/png": "[encoded data removed]"
          },
          "metadata": {
            "needs_background": "light"
          }
        },
        {
          "output_type": "display_data",
          "data": {
            "text/plain": [
              "<Figure size 432x288 with 1 Axes>"
            ],
            "image/png": "[encoded data removed]"
          },
          "metadata": {
            "needs_background": "light"
          }
        },
        {
          "output_type": "display_data",
          "data": {
            "text/plain": [
              "<Figure size 432x288 with 1 Axes>"
            ],
            "image/png": "[encoded data removed]"
          },
          "metadata": {
            "needs_background": "light"
          }
        },
        {
          "output_type": "display_data",
          "data": {
            "text/plain": [
              "<Figure size 432x288 with 1 Axes>"
            ],
            "image/png": "[encoded data removed]"
          },
          "metadata": {
            "needs_background": "light"
          }
        },
        {
          "output_type": "display_data",
          "data": {
            "text/plain": [
              "<Figure size 432x288 with 1 Axes>"
            ],
            "image/png": "[encoded data removed]"
          },
          "metadata": {
            "needs_background": "light"
          }
        },
        {
          "output_type": "stream",
          "name": "stdout",
          "text": [
            "size before: 70000, size after: 63941, removed in percents: 9\n"
          ]
        }
      ]
    },
    {
      "cell_type": "markdown",
      "source": [
        "Завдання 9. Скільки чоловіків і жінок мають зайву вагу?"
      ],
      "metadata": {
        "id": "ytxjPT-T3mvA"
      }
    },
    {
      "cell_type": "code",
      "source": [
        "dff[\"obesity_group\"] = \"normal\"\n",
        "dff[\"obesity_group\"] = dff[\"obesity_group\"].astype(\"category\")\n",
        "dff[\"obesity_group\"] = dff[\"obesity_group\"].cat.add_categories([\"obesity_0\", \"obesity_1\", \"obesity_2\", \"obesity_3\"])\n",
        "dff.loc[dff[(dff[\"BMI\"] >= 25) & (dff[\"BMI\"] <= 29.9)].index.tolist(), \"obesity_group\"] = \"obesity_0\"\n",
        "dff.loc[dff[(df[\"BMI\"] >= 30) & (dff[\"BMI\"] <= 34.9)].index.tolist(), \"obesity_group\"] = \"obesity_1\"\n",
        "dff.loc[dff[(df[\"BMI\"] >= 35) & (dff[\"BMI\"] <= 39.9)].index.tolist(), \"obesity_group\"] = \"obesity_2\"\n",
        "dff.loc[dff[dff[\"BMI\"] >= 40].index.tolist(), \"obesity_group\"] = \"obesity_3\"\n",
        "\n",
        "\n",
        "dff.groupby([\"gender\", \"obesity_group\"]).size()"
      ],
      "metadata": {
        "colab": {
          "base_uri": "https://localhost:8080/"
        },
        "id": "SM1Yd7Uf3trj",
        "outputId": "a78675dd-4cfe-423e-98b9-9a3fac7b61ad"
      },
      "execution_count": 15,
      "outputs": [
        {
          "output_type": "stream",
          "name": "stderr",
          "text": [
            "<ipython-input-15-63a4a6bd2e09>:5: UserWarning: Boolean Series key will be reindexed to match DataFrame index.\n",
            "  dff.loc[dff[(df[\"BMI\"] >= 30) & (dff[\"BMI\"] <= 34.9)].index.tolist(), \"obesity_group\"] = \"obesity_1\"\n",
            "<ipython-input-15-63a4a6bd2e09>:6: UserWarning: Boolean Series key will be reindexed to match DataFrame index.\n",
            "  dff.loc[dff[(df[\"BMI\"] >= 35) & (dff[\"BMI\"] <= 39.9)].index.tolist(), \"obesity_group\"] = \"obesity_2\"\n"
          ]
        },
        {
          "output_type": "execute_result",
          "data": {
            "text/plain": [
              "gender  obesity_group\n",
              "woman   normal           14929\n",
              "        obesity_0        14564\n",
              "        obesity_1         8022\n",
              "        obesity_2         3106\n",
              "        obesity_3          774\n",
              "man     normal            9404\n",
              "        obesity_0         9274\n",
              "        obesity_1         3309\n",
              "        obesity_2          509\n",
              "        obesity_3           50\n",
              "dtype: int64"
            ]
          },
          "metadata": {},
          "execution_count": 15
        }
      ]
    }
  ]
}